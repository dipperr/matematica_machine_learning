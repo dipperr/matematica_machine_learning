{
 "cells": [
  {
   "cell_type": "markdown",
   "metadata": {
    "tags": []
   },
   "source": [
    "# <font color='blue'>Data Science Academy</font>\n",
    "# <font color='blue'>Matemática Para Machine Learning</font>"
   ]
  },
  {
   "cell_type": "markdown",
   "metadata": {},
   "source": [
    "## Lista de Exercícios  - Capítulo 2"
   ]
  },
  {
   "cell_type": "markdown",
   "metadata": {},
   "source": [
    "O objetivo desta lista de exercícios é você praticar os principais conceitos estudados neste capítulo, ao mesmo tempo que desenvolve suas habilidades em lógica de programação com a linguagem Python. \n",
    "\n",
    "Caso tenha dúvidas, isso é absolutamente normal e faça um trabalho de pesquisa a fim de relembrar o formato das operações matemáticas.\n",
    "\n",
    "Quando encontrar o formato de uma operação que resolva o exercício proposto, use a linguagem Python para representar esta operação. Em essência, é assim que aplicamos Matemática Para Machine Learning, construindo algoritmos e representando esses algoritmos em linguagem de programação.\n",
    "\n",
    "Divirta-se!!"
   ]
  },
  {
   "cell_type": "markdown",
   "metadata": {},
   "source": [
    "## Resolvendo Sistemas de Equações em Python"
   ]
  },
  {
   "cell_type": "markdown",
   "metadata": {},
   "source": [
    "Usando numpy, podemos resolver sistemas de equações em Python. Cada equação em um sistema pode ser representada com matrizes. Por exemplo, se tivermos a equação 3x - 9y = -42, ela pode ser representada como [3, -9] e [-42]. Se adicionarmos outra equação, por exemplo, 2x + 4y = 2, podemos mesclar com a equação anterior para obter [[3, -9], [2, 4]] e [-42, 2]. Agora vamos resolver os valores x e y.\n",
    "\n",
    "Primeiro, colocamos essas equações em matrizes numpy:"
   ]
  },
  {
   "cell_type": "code",
   "execution_count": 1,
   "metadata": {},
   "outputs": [],
   "source": [
    "import numpy as np\n",
    "\n",
    "A = np.array([ [3,-9], [2,4] ])\n",
    "b = np.array([-42,2])"
   ]
  },
  {
   "cell_type": "markdown",
   "metadata": {},
   "source": [
    "Depois, usamos a função linalg.solve() para resolver os valores x e y, assim:"
   ]
  },
  {
   "cell_type": "code",
   "execution_count": 2,
   "metadata": {},
   "outputs": [
    {
     "name": "stdout",
     "output_type": "stream",
     "text": [
      "Os valores de x e y nas equações acima são, respectivamente: -5.0 3.0\n"
     ]
    }
   ],
   "source": [
    "x, y = np.linalg.solve(A,b)\n",
    "print(\"Os valores de x e y nas equações acima são, respectivamente:\", x, y)"
   ]
  },
  {
   "cell_type": "markdown",
   "metadata": {},
   "source": [
    "### Exercício 1 - Resolva o sistema de equações:\n",
    "\n",
    "# 1x + 1y = 35\n",
    "# 2x + 4y = 94"
   ]
  },
  {
   "cell_type": "code",
   "execution_count": 5,
   "metadata": {},
   "outputs": [
    {
     "name": "stdout",
     "output_type": "stream",
     "text": [
      "[23. 12.]\n"
     ]
    }
   ],
   "source": [
    "A = np.array([ [1,1], [2,4] ])\n",
    "b = np.array([35,94])\n",
    "\n",
    "print(np.linalg.solve(A,b))"
   ]
  },
  {
   "cell_type": "markdown",
   "metadata": {},
   "source": [
    "### Exercício 2 - Resolva a equação quadrática ax**2 + bx + c = 0 usando a fórmula matemática\n",
    "\n",
    "Dica 1: Solicite ao usuário que digite os valores dos 3 coeficientes da equação (a, b e c) e resolva os valores de x.\n",
    "\n",
    "Dica 2: Use a função sqrt() do pacote math\n",
    "\n",
    "Dica 3: Fique atento aos possíveis retornos da equação:\n",
    "\n",
    "- Se d < 0: Sem solução em ℝ\n",
    "- Se d = 0: A equação tem apenas uma solução em ℝ, x = −b2a\n",
    "- Se d > 0: A equação tem duas soluções, x1 e x2 "
   ]
  },
  {
   "cell_type": "code",
   "execution_count": 33,
   "metadata": {},
   "outputs": [
    {
     "name": "stdout",
     "output_type": "stream",
     "text": [
      "Resolvendo a equação quadrática\n",
      "Digite os valores de a, b e c\n"
     ]
    },
    {
     "name": "stdin",
     "output_type": "stream",
     "text": [
      "a =  1\n",
      "b =  -1\n",
      "c =  -6\n"
     ]
    },
    {
     "name": "stdout",
     "output_type": "stream",
     "text": [
      "A equação tem duas soluções:3.0 e -2.0\n"
     ]
    }
   ],
   "source": [
    "# Solução\n",
    "import math\n",
    "\n",
    "print('Resolvendo a equação quadrática\\nDigite os valores de a, b e c')\n",
    "a = int(input('a = '))\n",
    "b = int(input('b = '))\n",
    "c = int(input('c = '))\n",
    "\n",
    "d = b**2-4*a*c\n",
    "\n",
    "if d < 0:\n",
    "    print('A equação não tem solução real')\n",
    "    \n",
    "elif d == 0:\n",
    "    x = (-b)/(2*a)\n",
    "    print('A equação tem uma solução: ',x)\n",
    "\n",
    "else:\n",
    "    x1 = (-b+math.sqrt(d))/(2*a)\n",
    "    x2 = (-b-math.sqrt(d))/(2*a)\n",
    "    print(f'A equação tem duas soluções:{x1} e {x2}')"
   ]
  },
  {
   "cell_type": "markdown",
   "metadata": {},
   "source": [
    "### Exercício 3 - Resolva a equação quadrática ax**2 + bx + c = 0, criando uma função Python que receba os 3 coeficientes como parâmetro"
   ]
  },
  {
   "cell_type": "code",
   "execution_count": 36,
   "metadata": {},
   "outputs": [
    {
     "data": {
      "text/plain": [
       "(4.0, 4.0)"
      ]
     },
     "execution_count": 36,
     "metadata": {},
     "output_type": "execute_result"
    }
   ],
   "source": [
    "# Solução\n",
    "import math\n",
    "\n",
    "def solvequadratic(a,b,c):\n",
    "    return (((-1*b)+math.sqrt(b**2-4*a*c))/2*a),(((-1*b)-math.sqrt((b**2)-4*(a)*(c)))/2*a)\n",
    "\n",
    "solvequadratic(1,-8,16)"
   ]
  },
  {
   "cell_type": "markdown",
   "metadata": {},
   "source": [
    "### Exercício 4 - Estude as funções matemáticas em Python no link:\n",
    "\n",
    "https://docs.python.org/3.6/library/math.html"
   ]
  },
  {
   "cell_type": "markdown",
   "metadata": {},
   "source": [
    "### Exercício 5 - Crie uma classe em Python para calcular um número elevado ao quadrado\n",
    "\n",
    "Dica: Para testar, instancie a classe em um objeto, passando o número como parâmetro"
   ]
  },
  {
   "cell_type": "code",
   "execution_count": 37,
   "metadata": {},
   "outputs": [],
   "source": [
    "# Solução\n",
    "\n",
    "class MathFunction():\n",
    "    def __init__(self, code):\n",
    "        self.code = code\n",
    "        self.__func = eval('lambda x: ' + code)\n",
    "        \n",
    "    def __call__(self, arg):\n",
    "        return self.__func(arg)\n",
    "    \n",
    "    def __repr__(self):\n",
    "        return 'f(x) = ' + self.code"
   ]
  },
  {
   "cell_type": "code",
   "execution_count": 41,
   "metadata": {},
   "outputs": [],
   "source": [
    "sq = MathFunction('x**2')"
   ]
  },
  {
   "cell_type": "code",
   "execution_count": 42,
   "metadata": {},
   "outputs": [
    {
     "data": {
      "text/plain": [
       "f(x) = x**2"
      ]
     },
     "execution_count": 42,
     "metadata": {},
     "output_type": "execute_result"
    }
   ],
   "source": [
    "sq"
   ]
  },
  {
   "cell_type": "code",
   "execution_count": 43,
   "metadata": {},
   "outputs": [
    {
     "data": {
      "text/plain": [
       "49"
      ]
     },
     "execution_count": 43,
     "metadata": {},
     "output_type": "execute_result"
    }
   ],
   "source": [
    "sq(7)"
   ]
  },
  {
   "cell_type": "markdown",
   "metadata": {},
   "source": [
    "### Exercício 6 - Crie uma função em Python para resolver a equação quadrática ax**2 + bx + c = 0, aplicando tratamento de erros"
   ]
  },
  {
   "cell_type": "code",
   "execution_count": 44,
   "metadata": {},
   "outputs": [],
   "source": [
    "# Solução\n",
    "\n",
    "from numpy import linalg\n",
    "from numpy import array\n",
    "from math import sqrt\n",
    "\n",
    "\n",
    "class NoRootsError(Exception):\n",
    "    pass\n",
    "\n",
    "class NoRationalNumbersError(Exception):\n",
    "    pass\n",
    "\n",
    "class NotQuadraticError(Exception):\n",
    "    pass\n",
    "\n",
    "def returnX(a,b,c):\n",
    "    if a == 0:\n",
    "        raise NotQuadraticError\n",
    "        \n",
    "    if b**2-4*a*c < 0:\n",
    "        raise NoRootsError\n",
    "    \n",
    "    try:\n",
    "        first_solution = (-b + sqrt(b**2-4*a*c))/2*a\n",
    "        second_solution = (-b - sqrt(b**2-4*a*c))/2*a\n",
    "        return (first_solution, second_solution)\n",
    "    except ValueError:\n",
    "        raise NoRationalNumberError"
   ]
  },
  {
   "cell_type": "code",
   "execution_count": 46,
   "metadata": {},
   "outputs": [
    {
     "data": {
      "text/plain": [
       "(4.0, 4.0)"
      ]
     },
     "execution_count": 46,
     "metadata": {},
     "output_type": "execute_result"
    }
   ],
   "source": [
    "returnX(1,-8,16)"
   ]
  },
  {
   "cell_type": "markdown",
   "metadata": {},
   "source": [
    "### Exercício 7 - Crie um Plot com a linha que representa a função linear\n",
    "\n",
    "Dica 1: Função linear y = mx + b  / y = ax + b"
   ]
  },
  {
   "cell_type": "code",
   "execution_count": 48,
   "metadata": {},
   "outputs": [
    {
     "data": {
      "image/png": "[encoded data removed]",
      "text/plain": [
       "<Figure size 432x288 with 1 Axes>"
      ]
     },
     "metadata": {
      "needs_background": "light"
     },
     "output_type": "display_data"
    }
   ],
   "source": [
    "import numpy as np\n",
    "import matplotlib.pyplot as plt\n",
    "\n",
    "a1 = 2\n",
    "b2 = 7\n",
    "\n",
    "x = np.linspace(-100,100)\n",
    "\n",
    "fig, ax = plt.subplots()\n",
    "ax.plot(x, a1*x+b2)\n",
    "\n",
    "ax.set_xlim((-100,100))\n",
    "ax.set_ylim((-100,100))\n",
    "\n",
    "plt.show()"
   ]
  },
  {
   "cell_type": "markdown",
   "metadata": {},
   "source": [
    "### Exercício 8 - Crie um Plot com a Parabola que representa a função quadrática"
   ]
  },
  {
   "cell_type": "code",
   "execution_count": 49,
   "metadata": {},
   "outputs": [
    {
     "data": {
      "image/png": "[encoded data removed]",
      "text/plain": [
       "<Figure size 432x288 with 1 Axes>"
      ]
     },
     "metadata": {
      "needs_background": "light"
     },
     "output_type": "display_data"
    }
   ],
   "source": [
    "# Solução\n",
    "a = []\n",
    "b = []\n",
    "\n",
    "for x in range(-50,50,1):\n",
    "    y = x ** 2 + 2 * x + 2\n",
    "    a.append(x)\n",
    "    b.append(y)\n",
    "    \n",
    "fig = plt.figure()\n",
    "axes = fig.add_subplot(111)\n",
    "axes.plot(a,b)\n",
    "plt.show()"
   ]
  },
  {
   "cell_type": "markdown",
   "metadata": {},
   "source": [
    "## Desafio - Questões 9 e 10"
   ]
  },
  {
   "cell_type": "markdown",
   "metadata": {},
   "source": [
    "### Exercício 9 - Crie uma função que calcule o slope e o intercepto (coeficientes m e b) da função linear estudada nas aulas anteriores, calcule e desenhe a linha que representa a função\n",
    "\n",
    "Dica 1: Use dados dummy para x e y\n",
    "\n",
    "Dica 2: A fórmula da função linear é y = mx+b"
   ]
  },
  {
   "cell_type": "code",
   "execution_count": 55,
   "metadata": {},
   "outputs": [
    {
     "name": "stdout",
     "output_type": "stream",
     "text": [
      "0.3 4.3\n"
     ]
    }
   ],
   "source": [
    "# Solução\n",
    "from statistics import mean\n",
    "import numpy as np\n",
    "\n",
    "xs = np.array([1,2,3,4,5], dtype=np.float64)\n",
    "ys = np.array([5,4,6,5,6], dtype=np.float64)\n",
    "\n",
    "def best_fit_slope_and_intercept(xs, ys):\n",
    "    m = (((mean(xs)*mean(ys)) - mean(xs*ys)) / ((mean(xs)*mean(xs)) - mean(xs*xs)))\n",
    "    \n",
    "    b = mean(ys) - m*mean(xs)\n",
    "    \n",
    "    return m, b\n",
    "\n",
    "m, b = best_fit_slope_and_intercept(xs, ys)\n",
    "\n",
    "print(round(m,2), round(b,2))"
   ]
  },
  {
   "cell_type": "code",
   "execution_count": 56,
   "metadata": {},
   "outputs": [],
   "source": [
    "# Outra maneira de calcular o coeficiente angular e o intercepto"
   ]
  },
  {
   "cell_type": "code",
   "execution_count": 76,
   "metadata": {},
   "outputs": [
    {
     "name": "stdout",
     "output_type": "stream",
     "text": [
      "0.3 4.3\n"
     ]
    }
   ],
   "source": [
    "xs = np.array([1,2,3,4,5], dtype=np.float64)\n",
    "ys = np.array([5,4,6,5,6], dtype=np.float64)\n",
    "\n",
    "desx = [i - xs.mean() for i in xs]\n",
    "desy = [i - ys.mean() for i in ys]\n",
    "\n",
    "desxy = [x * y for x, y in zip(desx,desy)]\n",
    "\n",
    "desx2 = [(i - xs.mean())**2 for i in xs]\n",
    "\n",
    "b1 = sum(desxy) / sum(desx2)\n",
    "b0 = ys.mean() - b1*xs.mean()\n",
    "\n",
    "print(b1, round(b0,2))"
   ]
  },
  {
   "cell_type": "code",
   "execution_count": 77,
   "metadata": {},
   "outputs": [],
   "source": [
    "# calcular a linha\n",
    "line = [(m*x)+b for x in xs]"
   ]
  },
  {
   "cell_type": "code",
   "execution_count": 85,
   "metadata": {},
   "outputs": [
    {
     "data": {
      "image/png": "[encoded data removed]",
      "text/plain": [
       "<Figure size 432x288 with 1 Axes>"
      ]
     },
     "metadata": {
      "needs_background": "light"
     },
     "output_type": "display_data"
    }
   ],
   "source": [
    "# Plot \n",
    "import matplotlib.pyplot as plt\n",
    "from matplotlib import style\n",
    "\n",
    "plt.scatter(xs, ys, color='#003F72')\n",
    "plt.plot(xs, line, color='red')\n",
    "plt.show()"
   ]
  },
  {
   "cell_type": "markdown",
   "metadata": {},
   "source": [
    "### Exercício 10 - Defina um novo valor de x e encontre o y correspondente"
   ]
  },
  {
   "cell_type": "code",
   "execution_count": 81,
   "metadata": {},
   "outputs": [],
   "source": [
    "# Solução\n",
    "\n",
    "# Novo valor de x\n",
    "predict_x = 7"
   ]
  },
  {
   "cell_type": "code",
   "execution_count": 82,
   "metadata": {},
   "outputs": [
    {
     "name": "stdout",
     "output_type": "stream",
     "text": [
      "6.399999999999996\n"
     ]
    }
   ],
   "source": [
    "# Prevendo o valor de y\n",
    "predict_y = (m*predict_x) + b\n",
    "print(predict_y)"
   ]
  },
  {
   "cell_type": "code",
   "execution_count": 84,
   "metadata": {},
   "outputs": [
    {
     "data": {
      "image/png": "[encoded data removed]",
      "text/plain": [
       "<Figure size 432x288 with 1 Axes>"
      ]
     },
     "metadata": {
      "needs_background": "light"
     },
     "output_type": "display_data"
    }
   ],
   "source": [
    "# Plot\n",
    "plt.scatter(xs, ys, color='#003F72', label='dados')\n",
    "plt.plot(xs, line, color='red', label='linha de regressão')\n",
    "plt.legend(loc=4)\n",
    "plt.show()"
   ]
  },
  {
   "cell_type": "markdown",
   "metadata": {},
   "source": [
    "## Fim"
   ]
  }
 ],
 "metadata": {
  "kernelspec": {
   "display_name": "Python 3 (ipykernel)",
   "language": "python",
   "name": "python3"
  },
  "language_info": {
   "codemirror_mode": {
    "name": "ipython",
    "version": 3
   },
   "file_extension": ".py",
   "mimetype": "text/x-python",
   "name": "python",
   "nbconvert_exporter": "python",
   "pygments_lexer": "ipython3",
   "version": "3.10.4"
  }
 },
 "nbformat": 4,
 "nbformat_minor": 4
}
